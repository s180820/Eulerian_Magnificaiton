{
 "cells": [
  {
   "cell_type": "code",
   "execution_count": 52,
   "metadata": {},
   "outputs": [],
   "source": [
    "import os\n",
    "import cv2\n",
    "import numpy as np\n",
    "import pandas as pd\n",
    "import torch\n",
    "from torch.utils.data import Dataset, DataLoader\n",
    "import bech_helper as helper\n",
    "from tqdm import tqdm\n",
    "import sys"
   ]
  },
  {
   "cell_type": "markdown",
   "metadata": {},
   "source": [
    "# Create the dataset"
   ]
  },
  {
   "cell_type": "code",
   "execution_count": 53,
   "metadata": {},
   "outputs": [],
   "source": [
    "import os\n",
    "import pandas as pd\n",
    "\n",
    "dataset_dir = \"././../../Data/Bench_data/\""
   ]
  },
  {
   "cell_type": "markdown",
   "metadata": {},
   "source": []
  },
  {
   "cell_type": "code",
   "execution_count": 54,
   "metadata": {},
   "outputs": [],
   "source": [
    "class CustomDataset(Dataset):\n",
    "    \"\"\"Custom dataset for the benchmark dataset\n",
    "    Args:\n",
    "        root_dir (string): Directory with all the videos.\n",
    "        createCSV (bool): If true, creates the csv files for the dataset and saves them in the same directory as the video.\n",
    "        createBBOX (bool): If true, creates the bounding boxes for the dataset and saves them in the same directory as the video.\n",
    "\n",
    "    \"\"\"\n",
    "\n",
    "    def __init__(self, root_dir, createCSV=False, createBBOX=False):\n",
    "        self.root_dir = root_dir\n",
    "        self.video_files = []\n",
    "        self.csv_files = []\n",
    "        self.bbox_files = []\n",
    "        self.net = cv2.dnn.readNetFromCaffe(\n",
    "            prototxt=(\"../../Models/deploy.prototxt.txt\"),\n",
    "            caffeModel=(\n",
    "                \"../../Models/Facial_recognition/res10_300x300_ssd_iter_140000.caffemodel\"\n",
    "            ),\n",
    "        )\n",
    "\n",
    "        if createCSV:\n",
    "            helper.converter_driver(self.root_dir)\n",
    "\n",
    "        for root, dirs, files in os.walk(root_dir):\n",
    "            for file in files:\n",
    "                if file.endswith(\"edited.avi\"):\n",
    "                    video_file = os.path.join(root, file)\n",
    "                    self.video_files.append(video_file)\n",
    "                if file.endswith(\"output.csv\"):\n",
    "                    csv_file = os.path.join(root, file)\n",
    "                    self.csv_files.append(csv_file)\n",
    "                if file.endswith(\"box.csv\"):\n",
    "                    bbox_file = os.path.join(root, file)\n",
    "                    self.bbox_files.append(bbox_file)\n",
    "        if createBBOX:\n",
    "            for i in range(len(self.video_files)):\n",
    "                video_file = self.video_files[i]\n",
    "                helper.start_video_feed(video_file, self.net)\n",
    "\n",
    "    def __len__(self):\n",
    "        return len(self.video_files)\n",
    "\n",
    "    def __getitem__(self, idx):\n",
    "        video_path = self.video_files[idx]\n",
    "        csv_path = self.csv_files[idx]\n",
    "        bbox_path = self.bbox_files[idx]\n",
    "\n",
    "        return (video_path, csv_path, bbox_path)"
   ]
  },
  {
   "cell_type": "code",
   "execution_count": 55,
   "metadata": {},
   "outputs": [],
   "source": [
    "from torch.utils.data import DataLoader\n",
    "\n",
    "batch_size = 5\n",
    "dataset = CustomDataset(root_dir=dataset_dir, createCSV=False, createBBOX=False)"
   ]
  },
  {
   "cell_type": "code",
   "execution_count": 56,
   "metadata": {},
   "outputs": [],
   "source": [
    "dataloader = DataLoader(dataset, batch_size=batch_size, shuffle=False)"
   ]
  },
  {
   "cell_type": "code",
   "execution_count": 57,
   "metadata": {},
   "outputs": [
    {
     "name": "stdout",
     "output_type": "stream",
     "text": [
      "('././../../Data/Bench_data/P2LC2/P2LC2_edited.avi',) ('././../../Data/Bench_data/P2LC2/P2LC2_Mobi_output.csv',) ('././../../Data/Bench_data/P2LC2/bbox.csv',)\n"
     ]
    }
   ],
   "source": [
    "for batch in dataloader:\n",
    "    (video_path, csv_path, bbox_path) = batch\n",
    "print(video_path, csv_path, bbox_path)"
   ]
  },
  {
   "cell_type": "code",
   "execution_count": 58,
   "metadata": {},
   "outputs": [],
   "source": [
    "# Add extra files that we need to use\n",
    "sys.path.append(\"../Skin_segmentation/\")\n",
    "sys.path.append(\"../../Models/\")\n",
    "\n",
    "# Import classes\n",
    "# import skin_detection_runefile as skin_driver\n",
    "from skin_video_driver import MultipleVideoDriver\n",
    "from rPPGNet import *\n",
    "from helper_functions import helper_functions\n",
    "import random"
   ]
  },
  {
   "cell_type": "code",
   "execution_count": 59,
   "metadata": {},
   "outputs": [],
   "source": [
    "class CustomDataset(Dataset):\n",
    "    \"\"\"Custom dataset for the benchmark dataset\n",
    "    Args:\n",
    "        root_dir (string): Directory with all the videos.\n",
    "        createCSV (bool): If true, creates the csv files for the dataset and saves them in the same directory as the video.\n",
    "        createBBOX (bool): If true, creates the bounding boxes for the dataset and saves them in the same directory as the video.\n",
    "\n",
    "    \"\"\"\n",
    "\n",
    "    def __init__(\n",
    "        self, root_dir, createCSV=False, createBBOX=False, frames=64, verbosity=False\n",
    "    ):\n",
    "        self.root_dir = root_dir\n",
    "        self._class = \"[Custom dataset]\"\n",
    "        self.video_files = []\n",
    "        self.videoECG_counter = 0\n",
    "        self.csv_files = []\n",
    "        self.bbox_files = []\n",
    "        self.verbosity = verbosity\n",
    "        self.frames = frames\n",
    "        self.videoDriver = MultipleVideoDriver()\n",
    "        self.net = cv2.dnn.readNetFromCaffe(\n",
    "            prototxt=(\"../../Models/deploy.prototxt.txt\"),\n",
    "            caffeModel=(\n",
    "                \"../../Models/Facial_recognition/res10_300x300_ssd_iter_140000.caffemodel\"\n",
    "            ),\n",
    "        )\n",
    "        self.start_frame_idx = 1\n",
    "        self.current_frame_idx = self.start_frame_idx\n",
    "\n",
    "        if createCSV:\n",
    "            helper.converter_driver(self.root_dir)\n",
    "\n",
    "        for root, dirs, files in os.walk(root_dir):\n",
    "            for file in files:\n",
    "                if file.endswith(\"edited.avi\"):\n",
    "                    video_file = os.path.join(root, file)\n",
    "                    self.video_files.append(video_file)\n",
    "                if file.endswith(\"output.csv\"):\n",
    "                    csv_file = os.path.join(root, file)\n",
    "                    self.csv_files.append(csv_file)\n",
    "                if file.endswith(\"box.csv\"):\n",
    "                    bbox_file = os.path.join(root, file)\n",
    "                    self.bbox_files.append(bbox_file)\n",
    "        if createBBOX:\n",
    "            for i in range(len(self.video_files)):\n",
    "                video_file = self.video_files[i]\n",
    "                helper.start_video_feed(video_file, self.net)\n",
    "\n",
    "    def __len__(self):\n",
    "        return len(self.video_files)\n",
    "\n",
    "    def load_video_frames(self, video_path, bbdata, cur_frame_idx):\n",
    "        print(f\"{self._class} Converting\")\n",
    "        mask_array, frame_array = self.videoDriver.convert_video_with_progress(\n",
    "            video_file=video_path,\n",
    "            data=bbdata,\n",
    "            frames_to_process=self.frames + 1,\n",
    "            starting_frame=cur_frame_idx,\n",
    "            verbosity=False,\n",
    "        )\n",
    "        mask_array = helper_functions.binary_mask(mask_array)\n",
    "        return mask_array, frame_array\n",
    "\n",
    "    def load_ecg_data(self, ecg_path, start_frame, end_frame):\n",
    "        ecg = pd.read_csv(ecg_path)\n",
    "        ecg = ecg[\"ECG-A(mV)\"]\n",
    "        ecg = ecg[start_frame : end_frame + 1]\n",
    "        return ecg\n",
    "\n",
    "    def __getitem__(self, idx):\n",
    "        video_path = self.video_files[idx]\n",
    "        ecg_path = self.csv_files[idx]\n",
    "        bbox_path = self.bbox_files[idx]\n",
    "\n",
    "        bb_data = pd.read_csv(bbox_path)\n",
    "        bb_data = bb_data[[\"X\", \"Y\", \"Width\", \"Height\"]]\n",
    "\n",
    "        column_mapping = {\n",
    "            \"X\": \"x\",\n",
    "            \"Y\": \"y\",\n",
    "            \"Width\": \"w\",\n",
    "            \"Height\": \"h\",\n",
    "        }\n",
    "        # Rename the columns using the dictionary\n",
    "        bb_data.rename(columns=column_mapping, inplace=True)\n",
    "\n",
    "        start_frame = self.current_frame_idx\n",
    "        video_frame_count = helper_functions.get_video_frame_count(video_path)\n",
    "        end_frame = start_frame + min(self.frames, video_frame_count - start_frame)\n",
    "\n",
    "        if self.verbosity:\n",
    "            print(\n",
    "                f\"{self._class} [INFO]: VideoFile: {video_path} | ECGFile: {ecg_path} |\"\n",
    "            )\n",
    "            print(\n",
    "                f\"{self._class} [INFO]: VideoCounter: {self.videoECG_counter} | FrameCounter: {start_frame} | TotalFrames: {video_frame_count}\"\n",
    "            )\n",
    "\n",
    "        mask_array, frame_array = self.load_video_frames(\n",
    "            video_path=video_path, bbdata=bb_data, cur_frame_idx=start_frame\n",
    "        )\n",
    "        ecg = self.load_ecg_data(\n",
    "            ecg_path=ecg_path, start_frame=start_frame, end_frame=end_frame\n",
    "        )\n",
    "\n",
    "        skin_seg_label, frame_tensor, ecg_tensor = helper_functions.tensor_transform(\n",
    "            mask_array, frame_array, ecg, self.frames\n",
    "        )\n",
    "        self.current_frame_idx = end_frame\n",
    "\n",
    "        if (not frame_tensor.shape[1] == self.frames) or (\n",
    "            not ecg_tensor.shape[0] == self.frames\n",
    "        ):\n",
    "            # print(\"Length of ecg GT\", ecg_tensor.shape[0])\n",
    "            # print(\"Number of frames:\", frame_tensor.shape[1])\n",
    "            if self.verbosity:\n",
    "                print(f\"{self._class} [DEBUGGING]\", start_frame)\n",
    "                print(\n",
    "                    f\"{self._class} [DEBUGGING] Video frames available\",\n",
    "                    video_frame_count,\n",
    "                )\n",
    "                # for i in range(5000):\n",
    "                print(f\"{self._class} [INFO] GETTING NEW VIDEO!\")\n",
    "            self.videoECG_counter += 1\n",
    "            self.current_frame_idx = self.start_frame_idx\n",
    "        if end_frame + self.frames >= video_frame_count:\n",
    "            # Move to the next video\n",
    "            self.videoECG_counter += 1\n",
    "            self.current_frame_idx = self.start_frame_idx\n",
    "\n",
    "        return skin_seg_label, frame_tensor, ecg_tensor\n",
    "\n",
    "    def get_dataloader(self, batch_size=1, *args, **kwargs):\n",
    "        if self.purpose == \"train\":\n",
    "            return DataLoader(\n",
    "                dataset=self.train_subset,\n",
    "                shuffle=True,\n",
    "                batch_size=batch_size,\n",
    "                *args,\n",
    "                **kwargs,\n",
    "            )\n",
    "        if self.purpose == \"test\":\n",
    "            return DataLoader(\n",
    "                dataset=self.test_subset,\n",
    "                shuffle=False,\n",
    "                batch_size=batch_size,\n",
    "                *args,\n",
    "                **kwargs,\n",
    "            )\n",
    "        if self.purpose == \"val\":\n",
    "            return DataLoader(\n",
    "                dataset=self.val_subset,\n",
    "                shuffle=False,\n",
    "                batch_size=batch_size,\n",
    "                *args,\n",
    "                **kwargs,\n",
    "            )"
   ]
  },
  {
   "cell_type": "code",
   "execution_count": 60,
   "metadata": {},
   "outputs": [],
   "source": [
    "from torch.utils.data import DataLoader\n",
    "\n",
    "batch_size = 1\n",
    "dataset = CustomDataset(\n",
    "    root_dir=dataset_dir, createCSV=False, createBBOX=False, verbosity=True\n",
    ")\n",
    "dataloader = DataLoader(dataset, batch_size=batch_size, shuffle=False)"
   ]
  },
  {
   "cell_type": "code",
   "execution_count": 61,
   "metadata": {},
   "outputs": [
    {
     "name": "stdout",
     "output_type": "stream",
     "text": [
      "[Custom dataset] [INFO]: VideoFile: ././../../Data/Bench_data/P1LC1/P1LC1-edited.avi | ECGFile: ././../../Data/Bench_data/P1LC1/P1LC1_Mobi_output.csv |\n",
      "[Custom dataset] [INFO]: VideoCounter: 0 | FrameCounter: 1 | TotalFrames: 5567\n",
      "[Custom dataset] Converting\n",
      "[Custom dataset] [INFO]: VideoFile: ././../../Data/Bench_data/P1LC2/P1LC2_edited.avi | ECGFile: ././../../Data/Bench_data/P1LC2/P1LC2_Mobi_output.csv |\n",
      "[Custom dataset] [INFO]: VideoCounter: 0 | FrameCounter: 65 | TotalFrames: 5562\n",
      "[Custom dataset] Converting\n",
      "[Custom dataset] [INFO]: VideoFile: ././../../Data/Bench_data/P1H1/P1H1_edited.avi | ECGFile: ././../../Data/Bench_data/P1H1/P1H1_Mobi_output.csv |\n",
      "[Custom dataset] [INFO]: VideoCounter: 0 | FrameCounter: 129 | TotalFrames: 9019\n",
      "[Custom dataset] Converting\n",
      "[Custom dataset] [INFO]: VideoFile: ././../../Data/Bench_data/P1M1/P1M1_edited.avi | ECGFile: ././../../Data/Bench_data/P1M1/P1M1_Mobi_output.csv |\n",
      "[Custom dataset] [INFO]: VideoCounter: 0 | FrameCounter: 193 | TotalFrames: 5860\n",
      "[Custom dataset] Converting\n",
      "[Custom dataset] [INFO]: VideoFile: ././../../Data/Bench_data/P2LC3/P2LC3_edited.avi | ECGFile: ././../../Data/Bench_data/P2LC3/P2LC3_Mobi_output.csv |\n",
      "[Custom dataset] [INFO]: VideoCounter: 0 | FrameCounter: 257 | TotalFrames: 5415\n",
      "[Custom dataset] Converting\n",
      "[Custom dataset] [INFO]: VideoFile: ././../../Data/Bench_data/P1M3/P1M3_edited.avi | ECGFile: ././../../Data/Bench_data/P1M3/P1M3_Mobi_output.csv |\n",
      "[Custom dataset] [INFO]: VideoCounter: 0 | FrameCounter: 321 | TotalFrames: 5701\n",
      "[Custom dataset] Converting\n",
      "[Custom dataset] [INFO]: VideoFile: ././../../Data/Bench_data/P3LC5/P3LC5_edited.avi | ECGFile: ././../../Data/Bench_data/P3LC5/P3LC5_Mobi_output.csv |\n",
      "[Custom dataset] [INFO]: VideoCounter: 0 | FrameCounter: 385 | TotalFrames: 5431\n",
      "[Custom dataset] Converting\n",
      "[Custom dataset] [INFO]: VideoFile: ././../../Data/Bench_data/P2LC4/P2LC4_edited.avi | ECGFile: ././../../Data/Bench_data/P2LC4/P2LC4_Mobi_output.csv |\n",
      "[Custom dataset] [INFO]: VideoCounter: 0 | FrameCounter: 449 | TotalFrames: 5454\n",
      "[Custom dataset] Converting\n",
      "[Custom dataset] [INFO]: VideoFile: ././../../Data/Bench_data/P3LC2/P3LC2_edited.avi | ECGFile: ././../../Data/Bench_data/P3LC2/P3LC2_Mobi_output.csv |\n",
      "[Custom dataset] [INFO]: VideoCounter: 0 | FrameCounter: 513 | TotalFrames: 5583\n",
      "[Custom dataset] Converting\n",
      "[Custom dataset] [INFO]: VideoFile: ././../../Data/Bench_data/P3LC3/P3LC3_edited.avi | ECGFile: ././../../Data/Bench_data/P3LC3/P3LC3_Mobi_output.csv |\n",
      "[Custom dataset] [INFO]: VideoCounter: 0 | FrameCounter: 577 | TotalFrames: 5426\n",
      "[Custom dataset] Converting\n",
      "[Custom dataset] [INFO]: VideoFile: ././../../Data/Bench_data/P2LC5/P2LC5_edited.avi | ECGFile: ././../../Data/Bench_data/P2LC5/P2LC5_Mobi_output.csv |\n",
      "[Custom dataset] [INFO]: VideoCounter: 0 | FrameCounter: 641 | TotalFrames: 5450\n",
      "[Custom dataset] Converting\n",
      "[Custom dataset] [INFO]: VideoFile: ././../../Data/Bench_data/P1LC5/P1LC5_edited.avi | ECGFile: ././../../Data/Bench_data/P1LC5/P1LC5_Mobi_output.csv |\n",
      "[Custom dataset] [INFO]: VideoCounter: 0 | FrameCounter: 705 | TotalFrames: 5558\n",
      "[Custom dataset] Converting\n",
      "[Custom dataset] [INFO]: VideoFile: ././../../Data/Bench_data/P1M2/P1M2_edited.avi | ECGFile: ././../../Data/Bench_data/P1M2/P1M2_Mobi_output.csv |\n",
      "[Custom dataset] [INFO]: VideoCounter: 0 | FrameCounter: 769 | TotalFrames: 5855\n",
      "[Custom dataset] Converting\n",
      "[Custom dataset] [INFO]: VideoFile: ././../../Data/Bench_data/P1LC4/P1LC4_edited.avi | ECGFile: ././../../Data/Bench_data/P1LC4/P1LC4_Mobi_output.csv |\n",
      "[Custom dataset] [INFO]: VideoCounter: 0 | FrameCounter: 833 | TotalFrames: 5543\n",
      "[Custom dataset] Converting\n",
      "[Custom dataset] [INFO]: VideoFile: ././../../Data/Bench_data/P1LC7/P1LC7_edited.avi | ECGFile: ././../../Data/Bench_data/P1LC7/P1LC7_Mobi_output.csv |\n",
      "[Custom dataset] [INFO]: VideoCounter: 0 | FrameCounter: 897 | TotalFrames: 5555\n",
      "[Custom dataset] Converting\n",
      "[Custom dataset] [INFO]: VideoFile: ././../../Data/Bench_data/P1LC3/P1LC3_edited.avi | ECGFile: ././../../Data/Bench_data/P1LC3/P1LC3_Mobi_output.csv |\n",
      "[Custom dataset] [INFO]: VideoCounter: 0 | FrameCounter: 961 | TotalFrames: 5681\n",
      "[Custom dataset] Converting\n",
      "[Custom dataset] [INFO]: VideoFile: ././../../Data/Bench_data/P2LC1/P2LC1_edited.avi | ECGFile: ././../../Data/Bench_data/P2LC1/P2LC1_Mobi_output.csv |\n",
      "[Custom dataset] [INFO]: VideoCounter: 0 | FrameCounter: 1025 | TotalFrames: 5466\n",
      "[Custom dataset] Converting\n",
      "[Custom dataset] [INFO]: VideoFile: ././../../Data/Bench_data/P1LC6/P1LC6_edited.avi | ECGFile: ././../../Data/Bench_data/P1LC6/P1LC6_Mobi_output.csv |\n",
      "[Custom dataset] [INFO]: VideoCounter: 0 | FrameCounter: 1089 | TotalFrames: 5554\n",
      "[Custom dataset] Converting\n",
      "[Custom dataset] [INFO]: VideoFile: ././../../Data/Bench_data/P3LC1/P3LC1_edited.avi | ECGFile: ././../../Data/Bench_data/P3LC1/P3LC1_Mobi_output.csv |\n",
      "[Custom dataset] [INFO]: VideoCounter: 0 | FrameCounter: 1153 | TotalFrames: 5437\n",
      "[Custom dataset] Converting\n",
      "[Custom dataset] [INFO]: VideoFile: ././../../Data/Bench_data/P3LC4/P3LC4_edited.avi | ECGFile: ././../../Data/Bench_data/P3LC4/P3LC4_Mobi_output.csv |\n",
      "[Custom dataset] [INFO]: VideoCounter: 0 | FrameCounter: 1217 | TotalFrames: 5432\n",
      "[Custom dataset] Converting\n",
      "[Custom dataset] [INFO]: VideoFile: ././../../Data/Bench_data/P2LC2/P2LC2_edited.avi | ECGFile: ././../../Data/Bench_data/P2LC2/P2LC2_Mobi_output.csv |\n",
      "[Custom dataset] [INFO]: VideoCounter: 0 | FrameCounter: 1281 | TotalFrames: 5429\n",
      "[Custom dataset] Converting\n"
     ]
    }
   ],
   "source": [
    "for batch in dataloader:\n",
    "    skin_seg_label, frame_tensor, ecg_tensor = batch"
   ]
  },
  {
   "cell_type": "code",
   "execution_count": 62,
   "metadata": {},
   "outputs": [
    {
     "data": {
      "text/plain": [
       "'././../../Data/Bench_data/P2LC2/P2LC2_Mobi_output.csv'"
      ]
     },
     "execution_count": 62,
     "metadata": {},
     "output_type": "execute_result"
    }
   ],
   "source": [
    "csv_path[0]"
   ]
  },
  {
   "cell_type": "code",
   "execution_count": 63,
   "metadata": {},
   "outputs": [
    {
     "data": {
      "text/html": [
       "<div>\n",
       "<style scoped>\n",
       "    .dataframe tbody tr th:only-of-type {\n",
       "        vertical-align: middle;\n",
       "    }\n",
       "\n",
       "    .dataframe tbody tr th {\n",
       "        vertical-align: top;\n",
       "    }\n",
       "\n",
       "    .dataframe thead th {\n",
       "        text-align: right;\n",
       "    }\n",
       "</style>\n",
       "<table border=\"1\" class=\"dataframe\">\n",
       "  <thead>\n",
       "    <tr style=\"text-align: right;\">\n",
       "      <th></th>\n",
       "      <th>SampleNBR</th>\n",
       "      <th>TimeStamp</th>\n",
       "      <th>ECG-A(mV)</th>\n",
       "      <th>MARKER(-)</th>\n",
       "      <th>SAW(-)</th>\n",
       "    </tr>\n",
       "  </thead>\n",
       "  <tbody>\n",
       "    <tr>\n",
       "      <th>0</th>\n",
       "      <td>1</td>\n",
       "      <td>46970.2231</td>\n",
       "      <td>-14.499475</td>\n",
       "      <td>0</td>\n",
       "      <td>0</td>\n",
       "    </tr>\n",
       "    <tr>\n",
       "      <th>1</th>\n",
       "      <td>2</td>\n",
       "      <td>46970.2247</td>\n",
       "      <td>-14.492854</td>\n",
       "      <td>0</td>\n",
       "      <td>0</td>\n",
       "    </tr>\n",
       "    <tr>\n",
       "      <th>2</th>\n",
       "      <td>3</td>\n",
       "      <td>46970.2262</td>\n",
       "      <td>-14.482703</td>\n",
       "      <td>0</td>\n",
       "      <td>0</td>\n",
       "    </tr>\n",
       "    <tr>\n",
       "      <th>3</th>\n",
       "      <td>4</td>\n",
       "      <td>46970.2278</td>\n",
       "      <td>-14.476681</td>\n",
       "      <td>0</td>\n",
       "      <td>0</td>\n",
       "    </tr>\n",
       "    <tr>\n",
       "      <th>4</th>\n",
       "      <td>5</td>\n",
       "      <td>46970.2294</td>\n",
       "      <td>-14.458151</td>\n",
       "      <td>0</td>\n",
       "      <td>0</td>\n",
       "    </tr>\n",
       "    <tr>\n",
       "      <th>...</th>\n",
       "      <td>...</td>\n",
       "      <td>...</td>\n",
       "      <td>...</td>\n",
       "      <td>...</td>\n",
       "      <td>...</td>\n",
       "    </tr>\n",
       "    <tr>\n",
       "      <th>95</th>\n",
       "      <td>96</td>\n",
       "      <td>46970.3625</td>\n",
       "      <td>-14.100129</td>\n",
       "      <td>0</td>\n",
       "      <td>10</td>\n",
       "    </tr>\n",
       "    <tr>\n",
       "      <th>96</th>\n",
       "      <td>97</td>\n",
       "      <td>46970.3635</td>\n",
       "      <td>-14.088476</td>\n",
       "      <td>0</td>\n",
       "      <td>12</td>\n",
       "    </tr>\n",
       "    <tr>\n",
       "      <th>97</th>\n",
       "      <td>98</td>\n",
       "      <td>46970.3645</td>\n",
       "      <td>-14.089612</td>\n",
       "      <td>0</td>\n",
       "      <td>12</td>\n",
       "    </tr>\n",
       "    <tr>\n",
       "      <th>98</th>\n",
       "      <td>99</td>\n",
       "      <td>46970.3655</td>\n",
       "      <td>-14.096892</td>\n",
       "      <td>0</td>\n",
       "      <td>12</td>\n",
       "    </tr>\n",
       "    <tr>\n",
       "      <th>99</th>\n",
       "      <td>100</td>\n",
       "      <td>46970.3664</td>\n",
       "      <td>-14.109486</td>\n",
       "      <td>0</td>\n",
       "      <td>12</td>\n",
       "    </tr>\n",
       "  </tbody>\n",
       "</table>\n",
       "<p>100 rows × 5 columns</p>\n",
       "</div>"
      ],
      "text/plain": [
       "    SampleNBR   TimeStamp  ECG-A(mV)  MARKER(-)  SAW(-)\n",
       "0           1  46970.2231 -14.499475          0       0\n",
       "1           2  46970.2247 -14.492854          0       0\n",
       "2           3  46970.2262 -14.482703          0       0\n",
       "3           4  46970.2278 -14.476681          0       0\n",
       "4           5  46970.2294 -14.458151          0       0\n",
       "..        ...         ...        ...        ...     ...\n",
       "95         96  46970.3625 -14.100129          0      10\n",
       "96         97  46970.3635 -14.088476          0      12\n",
       "97         98  46970.3645 -14.089612          0      12\n",
       "98         99  46970.3655 -14.096892          0      12\n",
       "99        100  46970.3664 -14.109486          0      12\n",
       "\n",
       "[100 rows x 5 columns]"
      ]
     },
     "execution_count": 63,
     "metadata": {},
     "output_type": "execute_result"
    }
   ],
   "source": [
    "df = pd.read_csv(csv_path[0])\n",
    "df.head(100)"
   ]
  },
  {
   "cell_type": "code",
   "execution_count": 64,
   "metadata": {},
   "outputs": [],
   "source": [
    "ecg = df[\"ECG-A(mV)\"]"
   ]
  },
  {
   "cell_type": "code",
   "execution_count": 65,
   "metadata": {},
   "outputs": [
    {
     "data": {
      "text/plain": [
       "[<matplotlib.lines.Line2D at 0x7f7bc873b2b0>]"
      ]
     },
     "execution_count": 65,
     "metadata": {},
     "output_type": "execute_result"
    },
    {
     "data": {
      "image/png": "[encoded data removed]",
      "text/plain": [
       "<Figure size 640x480 with 1 Axes>"
      ]
     },
     "metadata": {},
     "output_type": "display_data"
    }
   ],
   "source": [
    "import matplotlib.pyplot as plt\n",
    "\n",
    "plt.plot(ecg[0:7000])"
   ]
  },
  {
   "cell_type": "markdown",
   "metadata": {},
   "source": [
    "## Training"
   ]
  },
  {
   "cell_type": "code",
   "execution_count": 47,
   "metadata": {},
   "outputs": [],
   "source": [
    "from dataloader import BenchDataset"
   ]
  },
  {
   "cell_type": "code",
   "execution_count": 51,
   "metadata": {},
   "outputs": [
    {
     "name": "stdout",
     "output_type": "stream",
     "text": [
      "/home/peetz/Documents/GitHub/Eulerian_Magnificaiton/Code/Dev_notebooks\n"
     ]
    }
   ],
   "source": [
    "print(os.getcwd())"
   ]
  },
  {
   "cell_type": "code",
   "execution_count": 69,
   "metadata": {},
   "outputs": [
    {
     "data": {
      "text/plain": [
       "'././../../Data/Bench_data/'"
      ]
     },
     "execution_count": 69,
     "metadata": {},
     "output_type": "execute_result"
    }
   ],
   "source": [
    "dataset_"
   ]
  },
  {
   "cell_type": "code",
   "execution_count": 68,
   "metadata": {},
   "outputs": [
    {
     "name": "stdout",
     "output_type": "stream",
     "text": [
      "/home/peetz/Documents/GitHub/Eulerian_Magnificaiton/Code/Dev_notebooks\n"
     ]
    },
    {
     "ename": "error",
     "evalue": "OpenCV(4.8.1) /io/opencv/modules/dnn/src/caffe/caffe_io.cpp:1126: error: (-2:Unspecified error) FAILED: fs.is_open(). Can't open \"Models/deploy.prototxt.txt\" in function 'ReadProtoFromTextFile'\n",
     "output_type": "error",
     "traceback": [
      "\u001b[0;31m---------------------------------------------------------------------------\u001b[0m",
      "\u001b[0;31merror\u001b[0m                                     Traceback (most recent call last)",
      "\u001b[1;32m/home/peetz/Documents/GitHub/Eulerian_Magnificaiton/Code/Dev_notebooks/bench.ipynb Cell 20\u001b[0m line \u001b[0;36m1\n\u001b[0;32m----> <a href='vscode-notebook-cell:/home/peetz/Documents/GitHub/Eulerian_Magnificaiton/Code/Dev_notebooks/bench.ipynb#X32sZmlsZQ%3D%3D?line=0'>1</a>\u001b[0m BenchDataset(dataset_dir, createCSV\u001b[39m=\u001b[39;49m\u001b[39mFalse\u001b[39;49;00m, createBBOX\u001b[39m=\u001b[39;49m\u001b[39mFalse\u001b[39;49;00m)\n",
      "File \u001b[0;32m~/Documents/GitHub/Eulerian_Magnificaiton/Code/Dev_notebooks/dataloader.py:233\u001b[0m, in \u001b[0;36mBenchDataset.__init__\u001b[0;34m(self, root_dir, createCSV, createBBOX, frames, verbosity, purpose)\u001b[0m\n\u001b[1;32m    226\u001b[0m \u001b[39m# self.net = cv2.dnn.readNetFromCaffe(\u001b[39;00m\n\u001b[1;32m    227\u001b[0m \u001b[39m#     prototxt=(\"../../Models/deploy.prototxt.txt\"),\u001b[39;00m\n\u001b[1;32m    228\u001b[0m \u001b[39m#     caffeModel=(\u001b[39;00m\n\u001b[1;32m    229\u001b[0m \u001b[39m#         \"../../Models/Facial_recognition/res10_300x300_ssd_iter_140000.caffemodel\"\u001b[39;00m\n\u001b[1;32m    230\u001b[0m \u001b[39m#     ),\u001b[39;00m\n\u001b[1;32m    231\u001b[0m \u001b[39m# )\u001b[39;00m\n\u001b[1;32m    232\u001b[0m \u001b[39mprint\u001b[39m(os\u001b[39m.\u001b[39mgetcwd())\n\u001b[0;32m--> 233\u001b[0m \u001b[39mself\u001b[39m\u001b[39m.\u001b[39mnet \u001b[39m=\u001b[39m cv2\u001b[39m.\u001b[39;49mdnn\u001b[39m.\u001b[39;49mreadNetFromCaffe(prototxt\u001b[39m=\u001b[39;49m\u001b[39m\"\u001b[39;49m\u001b[39mModels/deploy.prototxt.txt\u001b[39;49m\u001b[39m\"\u001b[39;49m, caffeModel\u001b[39m=\u001b[39;49m\u001b[39m\"\u001b[39;49m\u001b[39mModels/Facial_recognition/res10_300x300_ssd_iter_140000.caffemodel\u001b[39;49m\u001b[39m\"\u001b[39;49m)\n\u001b[1;32m    234\u001b[0m \u001b[39mself\u001b[39m\u001b[39m.\u001b[39mstart_frame_idx \u001b[39m=\u001b[39m \u001b[39m1\u001b[39m\n\u001b[1;32m    235\u001b[0m \u001b[39mself\u001b[39m\u001b[39m.\u001b[39mcurrent_frame_idx \u001b[39m=\u001b[39m \u001b[39mself\u001b[39m\u001b[39m.\u001b[39mstart_frame_idx\n",
      "\u001b[0;31merror\u001b[0m: OpenCV(4.8.1) /io/opencv/modules/dnn/src/caffe/caffe_io.cpp:1126: error: (-2:Unspecified error) FAILED: fs.is_open(). Can't open \"Models/deploy.prototxt.txt\" in function 'ReadProtoFromTextFile'\n"
     ]
    }
   ],
   "source": [
    "BenchDataset(dataset_dir, createCSV=False, createBBOX=False)"
   ]
  },
  {
   "cell_type": "code",
   "execution_count": null,
   "metadata": {},
   "outputs": [],
   "source": []
  }
 ],
 "metadata": {
  "kernelspec": {
   "display_name": "s23",
   "language": "python",
   "name": "python3"
  },
  "language_info": {
   "codemirror_mode": {
    "name": "ipython",
    "version": 3
   },
   "file_extension": ".py",
   "mimetype": "text/x-python",
   "name": "python",
   "nbconvert_exporter": "python",
   "pygments_lexer": "ipython3",
   "version": "3.8.18"
  }
 },
 "nbformat": 4,
 "nbformat_minor": 2
}
