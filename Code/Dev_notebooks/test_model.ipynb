{
 "cells": [
  {
   "cell_type": "code",
   "execution_count": 1,
   "metadata": {},
   "outputs": [],
   "source": [
    "import json\n",
    "import pandas as pd\n",
    "import cv2\n",
    "import numpy as np\n",
    "from enum import Enum, auto\n",
    "import sys\n",
    "\n",
    "sys.path.append(\"../Skin_segmentation\")\n",
    "sys.path.append('../Models')\n",
    "\n",
    "from Skindetector import *\n",
    "from rPPGNet import *\n",
    "\n",
    "with open('../../Data/json_structure') as json_file:\n",
    "    data = json.load(json_file)\n",
    "\n",
    "\n",
    "root_dir = \"/work3/s174159/data/\"\n",
    "video_file = root_dir + \"00/01/c920-1.avi\"\n",
    "bb_file = root_dir + \"bbox/00/01/c920-1.face\"\n",
    "\n",
    "bb_data =  pd.read_csv(bb_file, sep=\" \", header=None, names=[\"frame\", \"x\", \"y\", \"w\", \"h\"]).drop(\"frame\", axis=1)"
   ]
  },
  {
   "cell_type": "code",
   "execution_count": null,
   "metadata": {},
   "outputs": [],
   "source": [
    "model = TheModelClass(*args, **kwargs)\n",
    "model.load_state_dict(torch.load(PATH))\n",
    "model.eval()"
   ]
  },
  {
   "cell_type": "code",
   "execution_count": 2,
   "metadata": {},
   "outputs": [
    {
     "data": {
      "text/plain": [
       "None"
      ]
     },
     "metadata": {},
     "output_type": "display_data"
    },
    {
     "name": "stdout",
     "output_type": "stream",
     "text": [
      "Finished video...\n"
     ]
    }
   ],
   "source": [
    "import cv2\n",
    "from IPython.display import display, Image\n",
    "\n",
    "# Define the VideoCapture object and VideoWriter\n",
    "output_file = 'output_video.mp4'\n",
    "video = cv2.VideoCapture(video_file)\n",
    "fourcc = cv2.VideoWriter_fourcc(*'mp4v')  # Codec for the output video\n",
    "out = cv2.VideoWriter(output_file, fourcc, 30, (128, 128) ) # 30 is the frames per second, (128, 128) is the frame size\n",
    "\n",
    "display_handle = display(None, display_id=True)\n",
    "i = 0\n",
    "\n",
    "try:\n",
    "    while True:\n",
    "        ret, frame = video.read()\n",
    "        if not ret:  # Check if there are no more frames\n",
    "            print(\"Finished video...\")\n",
    "            break  # Exit the loop if there are no more frames\n",
    "        \n",
    "        if i == len(data):\n",
    "            i = 0\n",
    "        x, y, w, h = bb_data.iloc[i].values.astype(int)\n",
    "        i += 1\n",
    "        frame = frame[y:y + h, x:x + w]\n",
    "        frame = cv2.resize(frame, (128, 128), interpolation=cv2.INTER_AREA)\n",
    "        detector = SkinDetector(frame)\n",
    "        detector.find_skin()\n",
    "        image, mask, skin = detector.get_resulting_images()\n",
    "        \n",
    "        # Save the processed frame to the output video\n",
    "        out.write(skin)\n",
    "        \n",
    "        _, frame = cv2.imencode('.jpeg', skin)\n",
    "        display_handle.update(Image(data=frame.tobytes()))\n",
    "except KeyboardInterrupt:\n",
    "    pass\n",
    "finally:\n",
    "    video.release()\n",
    "    out.release()  # Release the VideoWriter\n",
    "    display_handle.update(None)\n"
   ]
  },
  {
   "cell_type": "code",
   "execution_count": null,
   "metadata": {},
   "outputs": [],
   "source": []
  }
 ],
 "metadata": {
  "kernelspec": {
   "display_name": "Python 3 (ipykernel)",
   "language": "python",
   "name": "python3"
  },
  "language_info": {
   "codemirror_mode": {
    "name": "ipython",
    "version": 3
   },
   "file_extension": ".py",
   "mimetype": "text/x-python",
   "name": "python",
   "nbconvert_exporter": "python",
   "pygments_lexer": "ipython3",
   "version": "3.11.3"
  }
 },
 "nbformat": 4,
 "nbformat_minor": 2
}
