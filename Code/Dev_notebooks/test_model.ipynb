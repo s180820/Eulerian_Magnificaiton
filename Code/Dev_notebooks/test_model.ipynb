{
 "cells": [
  {
   "cell_type": "code",
   "execution_count": 34,
   "metadata": {},
   "outputs": [],
   "source": [
    "import json\n",
    "import pandas as pd\n",
    "import cv2\n",
    "import numpy as np\n",
    "from enum import Enum, auto\n",
    "import sys\n",
    "import torch\n",
    "\n",
    "sys.path.append(\"../Skin_segmentation\")\n",
    "sys.path.append('../../Models')\n",
    "\n",
    "from Skindetector import *\n",
    "from rPPGNet import rPPGNet\n",
    "\n",
    "with open('../../Data/json_structure') as json_file:\n",
    "    data = json.load(json_file)\n",
    "\n",
    "\n",
    "root_dir = \"/work3/s174159/data/\"\n",
    "video_file = root_dir + \"00/01/c920-1.avi\"\n",
    "bb_file = root_dir + \"bbox/00/01/c920-1.face\"\n",
    "ecg_path = root_dir + \"00/01/c920-1.vitacom\"\n",
    "index_path = root_dir + \"00/01/c920-1.csv\"\n",
    "\n",
    "bb_data =  pd.read_csv(bb_file, sep=\" \", header=None, names=[\"frame\", \"x\", \"y\", \"w\", \"h\"]).drop(\"frame\", axis=1)"
   ]
  },
  {
   "cell_type": "code",
   "execution_count": 125,
   "metadata": {},
   "outputs": [
    {
     "data": {
      "text/plain": [
       "rPPGNet(\n",
       "  (ConvSpa1): Sequential(\n",
       "    (0): Conv3d(3, 16, kernel_size=(1, 5, 5), stride=(1, 1, 1), padding=(0, 2, 2))\n",
       "    (1): BatchNorm3d(16, eps=1e-05, momentum=0.1, affine=True, track_running_stats=True)\n",
       "    (2): ReLU(inplace=True)\n",
       "  )\n",
       "  (ConvSpa3): Sequential(\n",
       "    (0): SpatioTemporalConv(\n",
       "      (spatial_conv): Conv3d(16, 57, kernel_size=(1, 3, 3), stride=(1, 1, 1), padding=(0, 1, 1))\n",
       "      (bn): BatchNorm3d(57, eps=1e-05, momentum=0.1, affine=True, track_running_stats=True)\n",
       "      (relu): ReLU()\n",
       "      (temporal_conv): Conv3d(57, 32, kernel_size=(3, 1, 1), stride=(1, 1, 1), padding=(1, 0, 0))\n",
       "    )\n",
       "    (1): BatchNorm3d(32, eps=1e-05, momentum=0.1, affine=True, track_running_stats=True)\n",
       "    (2): ReLU(inplace=True)\n",
       "  )\n",
       "  (ConvSpa4): Sequential(\n",
       "    (0): SpatioTemporalConv(\n",
       "      (spatial_conv): Conv3d(32, 72, kernel_size=(1, 3, 3), stride=(1, 1, 1), padding=(0, 1, 1))\n",
       "      (bn): BatchNorm3d(72, eps=1e-05, momentum=0.1, affine=True, track_running_stats=True)\n",
       "      (relu): ReLU()\n",
       "      (temporal_conv): Conv3d(72, 32, kernel_size=(3, 1, 1), stride=(1, 1, 1), padding=(1, 0, 0))\n",
       "    )\n",
       "    (1): BatchNorm3d(32, eps=1e-05, momentum=0.1, affine=True, track_running_stats=True)\n",
       "    (2): ReLU(inplace=True)\n",
       "  )\n",
       "  (ConvSpa5): Sequential(\n",
       "    (0): SpatioTemporalConv(\n",
       "      (spatial_conv): Conv3d(32, 115, kernel_size=(1, 3, 3), stride=(1, 1, 1), padding=(0, 1, 1))\n",
       "      (bn): BatchNorm3d(115, eps=1e-05, momentum=0.1, affine=True, track_running_stats=True)\n",
       "      (relu): ReLU()\n",
       "      (temporal_conv): Conv3d(115, 64, kernel_size=(3, 1, 1), stride=(1, 1, 1), padding=(1, 0, 0))\n",
       "    )\n",
       "    (1): BatchNorm3d(64, eps=1e-05, momentum=0.1, affine=True, track_running_stats=True)\n",
       "    (2): ReLU(inplace=True)\n",
       "  )\n",
       "  (ConvSpa6): Sequential(\n",
       "    (0): SpatioTemporalConv(\n",
       "      (spatial_conv): Conv3d(64, 144, kernel_size=(1, 3, 3), stride=(1, 1, 1), padding=(0, 1, 1))\n",
       "      (bn): BatchNorm3d(144, eps=1e-05, momentum=0.1, affine=True, track_running_stats=True)\n",
       "      (relu): ReLU()\n",
       "      (temporal_conv): Conv3d(144, 64, kernel_size=(3, 1, 1), stride=(1, 1, 1), padding=(1, 0, 0))\n",
       "    )\n",
       "    (1): BatchNorm3d(64, eps=1e-05, momentum=0.1, affine=True, track_running_stats=True)\n",
       "    (2): ReLU(inplace=True)\n",
       "  )\n",
       "  (ConvSpa7): Sequential(\n",
       "    (0): SpatioTemporalConv(\n",
       "      (spatial_conv): Conv3d(64, 144, kernel_size=(1, 3, 3), stride=(1, 1, 1), padding=(0, 1, 1))\n",
       "      (bn): BatchNorm3d(144, eps=1e-05, momentum=0.1, affine=True, track_running_stats=True)\n",
       "      (relu): ReLU()\n",
       "      (temporal_conv): Conv3d(144, 64, kernel_size=(3, 1, 1), stride=(1, 1, 1), padding=(1, 0, 0))\n",
       "    )\n",
       "    (1): BatchNorm3d(64, eps=1e-05, momentum=0.1, affine=True, track_running_stats=True)\n",
       "    (2): ReLU(inplace=True)\n",
       "  )\n",
       "  (ConvSpa8): Sequential(\n",
       "    (0): SpatioTemporalConv(\n",
       "      (spatial_conv): Conv3d(64, 144, kernel_size=(1, 3, 3), stride=(1, 1, 1), padding=(0, 1, 1))\n",
       "      (bn): BatchNorm3d(144, eps=1e-05, momentum=0.1, affine=True, track_running_stats=True)\n",
       "      (relu): ReLU()\n",
       "      (temporal_conv): Conv3d(144, 64, kernel_size=(3, 1, 1), stride=(1, 1, 1), padding=(1, 0, 0))\n",
       "    )\n",
       "    (1): BatchNorm3d(64, eps=1e-05, momentum=0.1, affine=True, track_running_stats=True)\n",
       "    (2): ReLU(inplace=True)\n",
       "  )\n",
       "  (ConvSpa9): Sequential(\n",
       "    (0): SpatioTemporalConv(\n",
       "      (spatial_conv): Conv3d(64, 144, kernel_size=(1, 3, 3), stride=(1, 1, 1), padding=(0, 1, 1))\n",
       "      (bn): BatchNorm3d(144, eps=1e-05, momentum=0.1, affine=True, track_running_stats=True)\n",
       "      (relu): ReLU()\n",
       "      (temporal_conv): Conv3d(144, 64, kernel_size=(3, 1, 1), stride=(1, 1, 1), padding=(1, 0, 0))\n",
       "    )\n",
       "    (1): BatchNorm3d(64, eps=1e-05, momentum=0.1, affine=True, track_running_stats=True)\n",
       "    (2): ReLU(inplace=True)\n",
       "  )\n",
       "  (ConvSpa10): Conv3d(64, 1, kernel_size=(1, 1, 1), stride=(1, 1, 1))\n",
       "  (ConvSpa11): Conv3d(64, 1, kernel_size=(1, 1, 1), stride=(1, 1, 1))\n",
       "  (ConvPart1): Conv3d(64, 1, kernel_size=(1, 1, 1), stride=(1, 1, 1))\n",
       "  (ConvPart2): Conv3d(64, 1, kernel_size=(1, 1, 1), stride=(1, 1, 1))\n",
       "  (ConvPart3): Conv3d(64, 1, kernel_size=(1, 1, 1), stride=(1, 1, 1))\n",
       "  (ConvPart4): Conv3d(64, 1, kernel_size=(1, 1, 1), stride=(1, 1, 1))\n",
       "  (AvgpoolSpa): AvgPool3d(kernel_size=(1, 2, 2), stride=(1, 2, 2), padding=0)\n",
       "  (AvgpoolSkin_down): AvgPool2d(kernel_size=(2, 2), stride=2, padding=0)\n",
       "  (AvgpoolSpaTem): AvgPool3d(kernel_size=(2, 2, 2), stride=2, padding=0)\n",
       "  (ConvSpa): Conv3d(3, 16, kernel_size=(1, 3, 3), stride=(1, 1, 1), padding=(0, 1, 1))\n",
       "  (pool): AdaptiveAvgPool3d(output_size=1)\n",
       "  (poolspa): AdaptiveAvgPool3d(output_size=(64, 1, 1))\n",
       "  (skin_main): Sequential(\n",
       "    (0): Conv3d(32, 16, kernel_size=(1, 3, 3), stride=(1, 1, 1), padding=(0, 1, 1))\n",
       "    (1): BatchNorm3d(16, eps=1e-05, momentum=0.1, affine=True, track_running_stats=True)\n",
       "    (2): ReLU(inplace=True)\n",
       "    (3): Conv3d(16, 8, kernel_size=(1, 3, 3), stride=(1, 1, 1), padding=(0, 1, 1))\n",
       "    (4): BatchNorm3d(8, eps=1e-05, momentum=0.1, affine=True, track_running_stats=True)\n",
       "    (5): ReLU(inplace=True)\n",
       "  )\n",
       "  (skin_residual): Sequential(\n",
       "    (0): Conv3d(32, 8, kernel_size=(1, 1, 1), stride=(1, 1, 1))\n",
       "    (1): BatchNorm3d(8, eps=1e-05, momentum=0.1, affine=True, track_running_stats=True)\n",
       "    (2): ReLU(inplace=True)\n",
       "  )\n",
       "  (skin_output): Sequential(\n",
       "    (0): Conv3d(8, 1, kernel_size=(1, 3, 3), stride=(1, 1, 1), padding=(0, 1, 1))\n",
       "    (1): Sigmoid()\n",
       "  )\n",
       "  (MixA_Module): MixA_Module(\n",
       "    (softmax): Softmax(dim=-1)\n",
       "    (AVGpool): AdaptiveAvgPool1d(output_size=1)\n",
       "    (MAXpool): AdaptiveMaxPool1d(output_size=1)\n",
       "  )\n",
       ")"
      ]
     },
     "execution_count": 125,
     "metadata": {},
     "output_type": "execute_result"
    }
   ],
   "source": [
    "model = rPPGNet()\n",
    "model.load_state_dict(torch.load(\"../../logs/Eulerian/models/run_2023-10-30_11-34-54/model.pth\", map_location=torch.device('cpu')))\n",
    "model.eval()"
   ]
  },
  {
   "cell_type": "code",
   "execution_count": 126,
   "metadata": {},
   "outputs": [
    {
     "data": {
      "text/plain": [
       "None"
      ]
     },
     "metadata": {},
     "output_type": "display_data"
    },
    {
     "name": "stdout",
     "output_type": "stream",
     "text": [
      "Finished video...\n"
     ]
    }
   ],
   "source": [
    "import cv2\n",
    "from IPython.display import display, Image\n",
    "\n",
    "# Define the VideoCapture object and VideoWriter\n",
    "output_file = 'output_video.mp4'\n",
    "video = cv2.VideoCapture(video_file)\n",
    "fourcc = cv2.VideoWriter_fourcc(*'mp4v')  # Codec for the output video\n",
    "out = cv2.VideoWriter(output_file, fourcc, 30, (128, 128) ) # 30 is the frames per second, (128, 128) is the frame size\n",
    "\n",
    "display_handle = display(None, display_id=True)\n",
    "i = 0\n",
    "\n",
    "bounded_frames = []\n",
    "\n",
    "try:\n",
    "    while True:\n",
    "        ret, frame = video.read()\n",
    "        if not ret:  # Check if there are no more frames\n",
    "            print(\"Finished video...\")\n",
    "            break  # Exit the loop if there are no more frames\n",
    "        \n",
    "        if i == len(data):\n",
    "            i = 0\n",
    "        x, y, w, h = bb_data.iloc[i].values.astype(int)\n",
    "        i += 1\n",
    "        frame_bb = frame[y:y + h, x:x + w]\n",
    "        frame_bb = cv2.resize(frame_bb, (128, 128), interpolation=cv2.INTER_AREA)\n",
    "        bounded_frames.append(np.array(frame_bb, dtype='float32'))\n",
    "        #detector = SkinDetector(frame_bb)\n",
    "        #detector.find_skin()\n",
    "        #image, mask, skin = detector.get_resulting_images()\n",
    "        \n",
    "        # Save the processed frame to the output video\n",
    "        #out.write(frame)\n",
    "        \n",
    "        #_, frame = cv2.imencode('.jpeg', frame)\n",
    "        #display_handle.update(Image(data=frame.tobytes()))\n",
    "except KeyboardInterrupt:\n",
    "    pass\n",
    "finally:\n",
    "    video.release()\n",
    "    out.release()  # Release the VideoWriter\n",
    "    display_handle.update(None)\n"
   ]
  },
  {
   "cell_type": "code",
   "execution_count": 127,
   "metadata": {},
   "outputs": [],
   "source": [
    "frame_tensor = torch.tensor(np.array(bounded_frames[1:65]))\n",
    "frame_tensor = torch.swapaxes(frame_tensor, 0, 3)\n",
    "frame_tensor = torch.swapaxes(frame_tensor, 1, 3)"
   ]
  },
  {
   "cell_type": "code",
   "execution_count": 133,
   "metadata": {},
   "outputs": [
    {
     "data": {
      "text/plain": [
       "torch.Size([1, 3, 64, 128, 128])"
      ]
     },
     "execution_count": 133,
     "metadata": {},
     "output_type": "execute_result"
    }
   ],
   "source": [
    "frame_tensor.unsqueeze(0).shape"
   ]
  },
  {
   "cell_type": "code",
   "execution_count": 135,
   "metadata": {},
   "outputs": [],
   "source": [
    "skin_map, rPPG_aux, rPPG, rPPG_SA1, rPPG_SA2, rPPG_SA3, rPPG_SA4, x_visual6464, x_visual3232 = model(frame_tensor.unsqueeze(0))"
   ]
  },
  {
   "cell_type": "code",
   "execution_count": 128,
   "metadata": {},
   "outputs": [],
   "source": [
    "def moving_average(series, window_size=5):\n",
    "            # Convert array of integers to pandas series \n",
    "\n",
    "            # Get the window of series \n",
    "            # of observations of specified window size \n",
    "            windows = series.rolling(window_size) \n",
    "\n",
    "            # Create a series of moving \n",
    "            # averages of each window \n",
    "            moving_averages = windows.mean() \n",
    "\n",
    "            # Convert pandas series back to list \n",
    "            moving_averages_list = moving_averages.tolist() \n",
    "            final_list = moving_averages_list\n",
    "\n",
    "            return final_list"
   ]
  },
  {
   "cell_type": "code",
   "execution_count": 162,
   "metadata": {},
   "outputs": [
    {
     "data": {
      "text/plain": [
       "<matplotlib.legend.Legend at 0x7fd56b79b490>"
      ]
     },
     "execution_count": 162,
     "metadata": {},
     "output_type": "execute_result"
    },
    {
     "data": {
      "image/png": "[encoded data removed]",
      "text/plain": [
       "<Figure size 640x480 with 1 Axes>"
      ]
     },
     "metadata": {},
     "output_type": "display_data"
    }
   ],
   "source": [
    "import matplotlib.pyplot as plt\n",
    "ecg_path = root_dir + \"00/01/viatom-raw.csv\"\n",
    "index_path = root_dir + \"00/01/c920.csv\"\n",
    "\n",
    "def detrend_ecg(ecg_signal, smoothing_parameter=300):\n",
    "    return np.convolve(ecg_signal, np.ones(smoothing_parameter) / smoothing_parameter, mode='same')\n",
    "\n",
    "idx = pd.read_csv(index_path, header=None, names=[\"timestamp\", \"idx_sig\"])\n",
    "ecg = pd.read_csv(ecg_path)\n",
    "ecg[\" ECG\"] = detrend_ecg(ecg[\" ECG\"], 300)\n",
    "ecg = ecg.groupby(by=\"milliseconds\", as_index=False).mean()\n",
    " #detrend the signal\n",
    "ecg[\"ECG_norm\"] = (ecg[\" ECG\"] - ecg[\" ECG\"].mean()) / ecg[\" ECG\"].std() \n",
    "ecg[\"ECG_MV\"] = moving_average(ecg[\"ECG_norm\"], 5)\n",
    "ecg = ecg.iloc[int(idx.iloc[1].idx_sig/5):][:65] \n",
    "ecg\n",
    "plt.plot(ecg[\"ECG_norm\"].reset_index(drop=True), label='original ECG')\n",
    "plt.plot(ecg[\"ECG_MV\"].reset_index(drop=True),label='Moving Average ECG')\n",
    "plt.plot(list(rPPG.detach().numpy()[0].T), label='Model output')\n",
    "plt.legend()"
   ]
  },
  {
   "cell_type": "code",
   "execution_count": 158,
   "metadata": {},
   "outputs": [
    {
     "data": {
      "text/plain": [
       "0    -0.164874\n",
       "1    -0.505534\n",
       "2    -0.639126\n",
       "3    -0.953067\n",
       "4    -1.226930\n",
       "        ...   \n",
       "60    2.233075\n",
       "61    0.449624\n",
       "62    0.169081\n",
       "63    0.149042\n",
       "64    0.162401\n",
       "Name: ECG_norm, Length: 65, dtype: float64"
      ]
     },
     "execution_count": 158,
     "metadata": {},
     "output_type": "execute_result"
    }
   ],
   "source": [
    "ecg[\"ECG_norm\"].reset_index(drop=True)"
   ]
  },
  {
   "cell_type": "code",
   "execution_count": 67,
   "metadata": {},
   "outputs": [],
   "source": [
    "from numpy import *\n",
    "from numpy.linalg import *\n",
    "A = (tril(ones((64,64)),-1) - tril(ones((64,64)),-6))/5.\n",
    "A = A[5:,:]\n",
    "pA = pinv(A) #pseudo inverse"
   ]
  },
  {
   "cell_type": "code",
   "execution_count": 37,
   "metadata": {},
   "outputs": [],
   "source": [
    "skin_map, rPPG_aux, rPPG, rPPG_SA1, rPPG_SA2, rPPG_SA3, rPPG_SA4, x_visual6464, x_visual3232  = model(frame_tensor.unsqueeze(0))"
   ]
  },
  {
   "cell_type": "code",
   "execution_count": 74,
   "metadata": {},
   "outputs": [
    {
     "ename": "ValueError",
     "evalue": "shapes (64,59) and (64,) not aligned: 59 (dim 1) != 64 (dim 0)",
     "output_type": "error",
     "traceback": [
      "\u001b[0;31m---------------------------------------------------------------------------\u001b[0m",
      "\u001b[0;31mValueError\u001b[0m                                Traceback (most recent call last)",
      "\u001b[1;32m/work3/s180820/Eulerian_Magnificaiton/Code/Dev_notebooks/test_model.ipynb Cell 9\u001b[0m line \u001b[0;36m2\n\u001b[1;32m      <a href='vscode-notebook-cell://ssh-remote%2Bgbar1/work3/s180820/Eulerian_Magnificaiton/Code/Dev_notebooks/test_model.ipynb#W5sdnNjb2RlLXJlbW90ZQ%3D%3D?line=0'>1</a>\u001b[0m rPPG\n\u001b[0;32m----> <a href='vscode-notebook-cell://ssh-remote%2Bgbar1/work3/s180820/Eulerian_Magnificaiton/Code/Dev_notebooks/test_model.ipynb#W5sdnNjb2RlLXJlbW90ZQ%3D%3D?line=1'>2</a>\u001b[0m x2 \u001b[39m=\u001b[39m dot(pA,rPPG\u001b[39m.\u001b[39;49msqueeze(\u001b[39m0\u001b[39;49m)\u001b[39m.\u001b[39;49mdetach()\u001b[39m.\u001b[39;49mnumpy())\n",
      "\u001b[0;31mValueError\u001b[0m: shapes (64,59) and (64,) not aligned: 59 (dim 1) != 64 (dim 0)"
     ]
    }
   ],
   "source": [
    "rPPG\n",
    "x2 = dot(pA,rPPG.squeeze(0).detach().numpy())"
   ]
  },
  {
   "cell_type": "code",
   "execution_count": 73,
   "metadata": {},
   "outputs": [
    {
     "data": {
      "text/plain": [
       "array([-0.13569126, -0.13622795, -0.13560002, -0.1358516 , -0.13597304,\n",
       "       -0.13608263, -0.13611983, -0.13614082, -0.13617523, -0.13620903,\n",
       "       -0.13624398, -0.13628796, -0.13630407, -0.13632277, -0.13636677,\n",
       "       -0.13655014, -0.13689977, -0.13737975, -0.13777523, -0.13799119,\n",
       "       -0.13812818, -0.13815191, -0.13813885, -0.13812348, -0.1381072 ,\n",
       "       -0.13810304, -0.13808823, -0.13804924, -0.13799398, -0.13789389,\n",
       "       -0.1377715 , -0.13768291, -0.13776965, -0.13803524, -0.13842858,\n",
       "       -0.13876674, -0.13895439, -0.13902862, -0.1389545 , -0.13882053,\n",
       "       -0.13867883, -0.13854562, -0.1384258 , -0.1382946 , -0.1381386 ,\n",
       "       -0.1379625 , -0.13773733, -0.13749054, -0.13725898, -0.13718598,\n",
       "       -0.13729036, -0.1375239 , -0.13770626, -0.1377337 , -0.13767914,\n",
       "       -0.13749386, -0.13724747, -0.1369373 , -0.13661064, -0.13628623,\n",
       "       -0.13603346, -0.1355704 , -0.13486184, -0.13409175], dtype=float32)"
      ]
     },
     "execution_count": 73,
     "metadata": {},
     "output_type": "execute_result"
    }
   ],
   "source": [
    "rPPG.squeeze(0).detach().numpy()"
   ]
  },
  {
   "cell_type": "code",
   "execution_count": null,
   "metadata": {},
   "outputs": [],
   "source": [
    "from numpy import *\n",
    "from numpy.linalg import *\n",
    "from matplotlib.pyplot import *\n",
    "\n",
    "pA = pinv(A) #pseudo inverse\n",
    "\n",
    "# get x\n",
    "x = random.randn(2000) + 5\n",
    "\n",
    "# reconstruct\n",
    "x2 = dot(pA,y)\n",
    "\n",
    "plot(x,label='original x')\n",
    "plot(y,label='averaged x')\n",
    "plot(x2,label='reconstructed x')\n",
    "legend()\n",
    "show()"
   ]
  }
 ],
 "metadata": {
  "kernelspec": {
   "display_name": "Python 3 (ipykernel)",
   "language": "python",
   "name": "python3"
  }
 },
 "nbformat": 4,
 "nbformat_minor": 2
}
