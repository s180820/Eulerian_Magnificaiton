{
 "cells": [
  {
   "cell_type": "code",
   "execution_count": 34,
   "metadata": {},
   "outputs": [],
   "source": [
    "import json\n",
    "import pandas as pd\n",
    "import cv2\n",
    "import numpy as np\n",
    "from enum import Enum, auto\n",
    "import sys\n",
    "import torch\n",
    "\n",
    "sys.path.append(\"../Skin_segmentation\")\n",
    "sys.path.append('../../Models')\n",
    "\n",
    "from Skindetector import *\n",
    "from rPPGNet import rPPGNet\n",
    "\n",
    "with open('../../Data/json_structure') as json_file:\n",
    "    data = json.load(json_file)\n",
    "\n",
    "\n",
    "root_dir = \"/work3/s174159/data/\"\n",
    "video_file = root_dir + \"00/01/c920-1.avi\"\n",
    "bb_file = root_dir + \"bbox/00/01/c920-1.face\"\n",
    "ecg_path = root_dir + \"00/01/c920-1.vitacom\"\n",
    "index_path = root_dir + \"00/01/c920-1.csv\"\n",
    "\n",
    "bb_data =  pd.read_csv(bb_file, sep=\" \", header=None, names=[\"frame\", \"x\", \"y\", \"w\", \"h\"]).drop(\"frame\", axis=1)"
   ]
  },
  {
   "cell_type": "code",
   "execution_count": 2,
   "metadata": {},
   "outputs": [
    {
     "data": {
      "text/plain": [
       "rPPGNet(\n",
       "  (ConvSpa1): Sequential(\n",
       "    (0): Conv3d(3, 16, kernel_size=(1, 5, 5), stride=(1, 1, 1), padding=(0, 2, 2))\n",
       "    (1): BatchNorm3d(16, eps=1e-05, momentum=0.1, affine=True, track_running_stats=True)\n",
       "    (2): ReLU(inplace=True)\n",
       "  )\n",
       "  (ConvSpa3): Sequential(\n",
       "    (0): SpatioTemporalConv(\n",
       "      (spatial_conv): Conv3d(16, 57, kernel_size=(1, 3, 3), stride=(1, 1, 1), padding=(0, 1, 1))\n",
       "      (bn): BatchNorm3d(57, eps=1e-05, momentum=0.1, affine=True, track_running_stats=True)\n",
       "      (relu): ReLU()\n",
       "      (temporal_conv): Conv3d(57, 32, kernel_size=(3, 1, 1), stride=(1, 1, 1), padding=(1, 0, 0))\n",
       "    )\n",
       "    (1): BatchNorm3d(32, eps=1e-05, momentum=0.1, affine=True, track_running_stats=True)\n",
       "    (2): ReLU(inplace=True)\n",
       "  )\n",
       "  (ConvSpa4): Sequential(\n",
       "    (0): SpatioTemporalConv(\n",
       "      (spatial_conv): Conv3d(32, 72, kernel_size=(1, 3, 3), stride=(1, 1, 1), padding=(0, 1, 1))\n",
       "      (bn): BatchNorm3d(72, eps=1e-05, momentum=0.1, affine=True, track_running_stats=True)\n",
       "      (relu): ReLU()\n",
       "      (temporal_conv): Conv3d(72, 32, kernel_size=(3, 1, 1), stride=(1, 1, 1), padding=(1, 0, 0))\n",
       "    )\n",
       "    (1): BatchNorm3d(32, eps=1e-05, momentum=0.1, affine=True, track_running_stats=True)\n",
       "    (2): ReLU(inplace=True)\n",
       "  )\n",
       "  (ConvSpa5): Sequential(\n",
       "    (0): SpatioTemporalConv(\n",
       "      (spatial_conv): Conv3d(32, 115, kernel_size=(1, 3, 3), stride=(1, 1, 1), padding=(0, 1, 1))\n",
       "      (bn): BatchNorm3d(115, eps=1e-05, momentum=0.1, affine=True, track_running_stats=True)\n",
       "      (relu): ReLU()\n",
       "      (temporal_conv): Conv3d(115, 64, kernel_size=(3, 1, 1), stride=(1, 1, 1), padding=(1, 0, 0))\n",
       "    )\n",
       "    (1): BatchNorm3d(64, eps=1e-05, momentum=0.1, affine=True, track_running_stats=True)\n",
       "    (2): ReLU(inplace=True)\n",
       "  )\n",
       "  (ConvSpa6): Sequential(\n",
       "    (0): SpatioTemporalConv(\n",
       "      (spatial_conv): Conv3d(64, 144, kernel_size=(1, 3, 3), stride=(1, 1, 1), padding=(0, 1, 1))\n",
       "      (bn): BatchNorm3d(144, eps=1e-05, momentum=0.1, affine=True, track_running_stats=True)\n",
       "      (relu): ReLU()\n",
       "      (temporal_conv): Conv3d(144, 64, kernel_size=(3, 1, 1), stride=(1, 1, 1), padding=(1, 0, 0))\n",
       "    )\n",
       "    (1): BatchNorm3d(64, eps=1e-05, momentum=0.1, affine=True, track_running_stats=True)\n",
       "    (2): ReLU(inplace=True)\n",
       "  )\n",
       "  (ConvSpa7): Sequential(\n",
       "    (0): SpatioTemporalConv(\n",
       "      (spatial_conv): Conv3d(64, 144, kernel_size=(1, 3, 3), stride=(1, 1, 1), padding=(0, 1, 1))\n",
       "      (bn): BatchNorm3d(144, eps=1e-05, momentum=0.1, affine=True, track_running_stats=True)\n",
       "      (relu): ReLU()\n",
       "      (temporal_conv): Conv3d(144, 64, kernel_size=(3, 1, 1), stride=(1, 1, 1), padding=(1, 0, 0))\n",
       "    )\n",
       "    (1): BatchNorm3d(64, eps=1e-05, momentum=0.1, affine=True, track_running_stats=True)\n",
       "    (2): ReLU(inplace=True)\n",
       "  )\n",
       "  (ConvSpa8): Sequential(\n",
       "    (0): SpatioTemporalConv(\n",
       "      (spatial_conv): Conv3d(64, 144, kernel_size=(1, 3, 3), stride=(1, 1, 1), padding=(0, 1, 1))\n",
       "      (bn): BatchNorm3d(144, eps=1e-05, momentum=0.1, affine=True, track_running_stats=True)\n",
       "      (relu): ReLU()\n",
       "      (temporal_conv): Conv3d(144, 64, kernel_size=(3, 1, 1), stride=(1, 1, 1), padding=(1, 0, 0))\n",
       "    )\n",
       "    (1): BatchNorm3d(64, eps=1e-05, momentum=0.1, affine=True, track_running_stats=True)\n",
       "    (2): ReLU(inplace=True)\n",
       "  )\n",
       "  (ConvSpa9): Sequential(\n",
       "    (0): SpatioTemporalConv(\n",
       "      (spatial_conv): Conv3d(64, 144, kernel_size=(1, 3, 3), stride=(1, 1, 1), padding=(0, 1, 1))\n",
       "      (bn): BatchNorm3d(144, eps=1e-05, momentum=0.1, affine=True, track_running_stats=True)\n",
       "      (relu): ReLU()\n",
       "      (temporal_conv): Conv3d(144, 64, kernel_size=(3, 1, 1), stride=(1, 1, 1), padding=(1, 0, 0))\n",
       "    )\n",
       "    (1): BatchNorm3d(64, eps=1e-05, momentum=0.1, affine=True, track_running_stats=True)\n",
       "    (2): ReLU(inplace=True)\n",
       "  )\n",
       "  (ConvSpa10): Conv3d(64, 1, kernel_size=(1, 1, 1), stride=(1, 1, 1))\n",
       "  (ConvSpa11): Conv3d(64, 1, kernel_size=(1, 1, 1), stride=(1, 1, 1))\n",
       "  (ConvPart1): Conv3d(64, 1, kernel_size=(1, 1, 1), stride=(1, 1, 1))\n",
       "  (ConvPart2): Conv3d(64, 1, kernel_size=(1, 1, 1), stride=(1, 1, 1))\n",
       "  (ConvPart3): Conv3d(64, 1, kernel_size=(1, 1, 1), stride=(1, 1, 1))\n",
       "  (ConvPart4): Conv3d(64, 1, kernel_size=(1, 1, 1), stride=(1, 1, 1))\n",
       "  (AvgpoolSpa): AvgPool3d(kernel_size=(1, 2, 2), stride=(1, 2, 2), padding=0)\n",
       "  (AvgpoolSkin_down): AvgPool2d(kernel_size=(2, 2), stride=2, padding=0)\n",
       "  (AvgpoolSpaTem): AvgPool3d(kernel_size=(2, 2, 2), stride=2, padding=0)\n",
       "  (ConvSpa): Conv3d(3, 16, kernel_size=(1, 3, 3), stride=(1, 1, 1), padding=(0, 1, 1))\n",
       "  (pool): AdaptiveAvgPool3d(output_size=1)\n",
       "  (poolspa): AdaptiveAvgPool3d(output_size=(64, 1, 1))\n",
       "  (skin_main): Sequential(\n",
       "    (0): Conv3d(32, 16, kernel_size=(1, 3, 3), stride=(1, 1, 1), padding=(0, 1, 1))\n",
       "    (1): BatchNorm3d(16, eps=1e-05, momentum=0.1, affine=True, track_running_stats=True)\n",
       "    (2): ReLU(inplace=True)\n",
       "    (3): Conv3d(16, 8, kernel_size=(1, 3, 3), stride=(1, 1, 1), padding=(0, 1, 1))\n",
       "    (4): BatchNorm3d(8, eps=1e-05, momentum=0.1, affine=True, track_running_stats=True)\n",
       "    (5): ReLU(inplace=True)\n",
       "  )\n",
       "  (skin_residual): Sequential(\n",
       "    (0): Conv3d(32, 8, kernel_size=(1, 1, 1), stride=(1, 1, 1))\n",
       "    (1): BatchNorm3d(8, eps=1e-05, momentum=0.1, affine=True, track_running_stats=True)\n",
       "    (2): ReLU(inplace=True)\n",
       "  )\n",
       "  (skin_output): Sequential(\n",
       "    (0): Conv3d(8, 1, kernel_size=(1, 3, 3), stride=(1, 1, 1), padding=(0, 1, 1))\n",
       "    (1): Sigmoid()\n",
       "  )\n",
       "  (MixA_Module): MixA_Module(\n",
       "    (softmax): Softmax(dim=-1)\n",
       "    (AVGpool): AdaptiveAvgPool1d(output_size=1)\n",
       "    (MAXpool): AdaptiveMaxPool1d(output_size=1)\n",
       "  )\n",
       ")"
      ]
     },
     "execution_count": 2,
     "metadata": {},
     "output_type": "execute_result"
    }
   ],
   "source": [
    "model = rPPGNet()\n",
    "model.load_state_dict(torch.load(\"../../logs/Eulerian/models/run_2023-10-25_15-30-02/model.pth\", map_location=torch.device('cpu')))\n",
    "model.eval()"
   ]
  },
  {
   "cell_type": "code",
   "execution_count": 4,
   "metadata": {},
   "outputs": [
    {
     "data": {
      "text/plain": [
       "None"
      ]
     },
     "metadata": {},
     "output_type": "display_data"
    },
    {
     "name": "stdout",
     "output_type": "stream",
     "text": [
      "Finished video...\n"
     ]
    }
   ],
   "source": [
    "import cv2\n",
    "from IPython.display import display, Image\n",
    "\n",
    "# Define the VideoCapture object and VideoWriter\n",
    "output_file = 'output_video.mp4'\n",
    "video = cv2.VideoCapture(video_file)\n",
    "fourcc = cv2.VideoWriter_fourcc(*'mp4v')  # Codec for the output video\n",
    "out = cv2.VideoWriter(output_file, fourcc, 30, (128, 128) ) # 30 is the frames per second, (128, 128) is the frame size\n",
    "\n",
    "display_handle = display(None, display_id=True)\n",
    "i = 0\n",
    "\n",
    "bounded_frames = []\n",
    "\n",
    "try:\n",
    "    while True:\n",
    "        ret, frame = video.read()\n",
    "        if not ret:  # Check if there are no more frames\n",
    "            print(\"Finished video...\")\n",
    "            break  # Exit the loop if there are no more frames\n",
    "        \n",
    "        if i == len(data):\n",
    "            i = 0\n",
    "        x, y, w, h = bb_data.iloc[i].values.astype(int)\n",
    "        i += 1\n",
    "        frame_bb = frame[y:y + h, x:x + w]\n",
    "        frame_bb = cv2.resize(frame_bb, (128, 128), interpolation=cv2.INTER_AREA)\n",
    "        bounded_frames.append(np.array(frame_bb, dtype='float32'))\n",
    "        #detector = SkinDetector(frame_bb)\n",
    "        #detector.find_skin()\n",
    "        #image, mask, skin = detector.get_resulting_images()\n",
    "        \n",
    "        # Save the processed frame to the output video\n",
    "        #out.write(frame)\n",
    "        \n",
    "        #_, frame = cv2.imencode('.jpeg', frame)\n",
    "        #display_handle.update(Image(data=frame.tobytes()))\n",
    "except KeyboardInterrupt:\n",
    "    pass\n",
    "finally:\n",
    "    video.release()\n",
    "    out.release()  # Release the VideoWriter\n",
    "    display_handle.update(None)\n"
   ]
  },
  {
   "cell_type": "code",
   "execution_count": 27,
   "metadata": {},
   "outputs": [],
   "source": [
    "frame_tensor = torch.tensor(np.array(bounded_frames[1:65]))\n",
    "frame_tensor = torch.swapaxes(frame_tensor, 0, 3)\n",
    "frame_tensor = torch.swapaxes(frame_tensor, 1, 3)"
   ]
  },
  {
   "cell_type": "code",
   "execution_count": 28,
   "metadata": {},
   "outputs": [],
   "source": [
    "skin_map, rPPG_aux, rPPG, rPPG_SA1, rPPG_SA2, rPPG_SA3, rPPG_SA4, x_visual6464, x_visual3232  = model(frame_tensor.unsqueeze(0))"
   ]
  },
  {
   "cell_type": "code",
   "execution_count": 31,
   "metadata": {},
   "outputs": [
    {
     "data": {
      "text/plain": [
       "tensor([-0.1357, -0.1362, -0.1356, -0.1359, -0.1360, -0.1361, -0.1361, -0.1361,\n",
       "        -0.1362, -0.1362, -0.1362, -0.1363, -0.1363, -0.1363, -0.1364, -0.1366,\n",
       "        -0.1369, -0.1374, -0.1378, -0.1380, -0.1381, -0.1382, -0.1381, -0.1381,\n",
       "        -0.1381, -0.1381, -0.1381, -0.1380, -0.1380, -0.1379, -0.1378, -0.1377,\n",
       "        -0.1378, -0.1380, -0.1384, -0.1388, -0.1390, -0.1390, -0.1390, -0.1388,\n",
       "        -0.1387, -0.1385, -0.1384, -0.1383, -0.1381, -0.1380, -0.1377, -0.1375,\n",
       "        -0.1373, -0.1372, -0.1373, -0.1375, -0.1377, -0.1377, -0.1377, -0.1375,\n",
       "        -0.1372, -0.1369, -0.1366, -0.1363, -0.1360, -0.1356, -0.1349, -0.1341],\n",
       "       grad_fn=<SelectBackward0>)"
      ]
     },
     "execution_count": 31,
     "metadata": {},
     "output_type": "execute_result"
    }
   ],
   "source": [
    "rPPG[0]"
   ]
  },
  {
   "cell_type": "code",
   "execution_count": 30,
   "metadata": {},
   "outputs": [
    {
     "data": {
      "text/plain": [
       "torch.Size([1, 3, 64, 128, 128])"
      ]
     },
     "execution_count": 30,
     "metadata": {},
     "output_type": "execute_result"
    }
   ],
   "source": [
    "frame_tensor.unsqueeze(0).shape"
   ]
  },
  {
   "cell_type": "code",
   "execution_count": null,
   "metadata": {},
   "outputs": [],
   "source": []
  }
 ],
 "metadata": {
  "kernelspec": {
   "display_name": "Python 3 (ipykernel)",
   "language": "python",
   "name": "python3"
  }
 },
 "nbformat": 4,
 "nbformat_minor": 2
}
