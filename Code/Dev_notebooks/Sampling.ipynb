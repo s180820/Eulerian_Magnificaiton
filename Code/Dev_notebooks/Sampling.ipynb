{
 "cells": [
  {
   "cell_type": "code",
   "execution_count": null,
   "metadata": {},
   "outputs": [],
   "source": [
    "import pandas as pd"
   ]
  },
  {
   "cell_type": "code",
   "execution_count": null,
   "metadata": {},
   "outputs": [],
   "source": [
    "import json\n",
    "import pandas as pd\n",
    "import cv2\n",
    "import numpy as np\n",
    "from enum import Enum, auto\n",
    "import sys\n",
    "import torch\n",
    "import matplotlib.pyplot as plt\n",
    "\n",
    "sys.path.append(\"../Skin_segmentation\")\n",
    "sys.path.append(\"../../Models\")\n",
    "\n",
    "from Skindetector import *\n",
    "from rPPGNet import rPPGNet\n",
    "\n",
    "with open(\"../../Data/json_structure\") as json_file:\n",
    "    data = json.load(json_file)\n",
    "\n",
    "\n",
    "root_dir = \"/work3/s174159/data/\"\n",
    "video_file = root_dir + \"15/01/c920-1.avi\"\n",
    "bb_file = root_dir + \"bbox/15/01/c920-1.face\"\n",
    "ecg_path = root_dir + \"15/01/viatom-raw.csv\"\n",
    "index_path = root_dir + \"15/01/c920.csv\"\n",
    "\n",
    "bb_data = pd.read_csv(\n",
    "    bb_file, sep=\" \", header=None, names=[\"frame\", \"x\", \"y\", \"w\", \"h\"]\n",
    ").drop(\"frame\", axis=1)"
   ]
  },
  {
   "cell_type": "code",
   "execution_count": null,
   "metadata": {},
   "outputs": [],
   "source": [
    "df = pd.read_csv(ecg_path)\n",
    "df.head(5)"
   ]
  },
  {
   "cell_type": "code",
   "execution_count": null,
   "metadata": {},
   "outputs": [],
   "source": [
    "lead_names = [\"Lead I\", \"Lead II\", \"Lead III\", \"Lead aVR\", \"Lead aVL\"]"
   ]
  },
  {
   "cell_type": "code",
   "execution_count": null,
   "metadata": {},
   "outputs": [],
   "source": [
    "df[\"Lead\"] = lead_names * (len(df) // 5)\n",
    "df[\"time\"] = (df[\"milliseconds\"] - df[\"milliseconds\"].min()) / 1000  # Convert time.\n",
    "tmp_df = df[df[\"Lead\"] == \"Lead II\"]\n",
    "tmp_df = tmp_df[tmp_df[\"time\"] < 60]\n",
    "tmp_df[\" ECG\"] = tmp_df[\" ECG\"] * 1e-8"
   ]
  },
  {
   "cell_type": "code",
   "execution_count": null,
   "metadata": {},
   "outputs": [],
   "source": [
    "plt.figure(figsize=(20, 10))\n",
    "plt.plot(tmp_df[\"time\"], tmp_df[\" ECG\"])\n",
    "plt.xlim(0, 6)"
   ]
  },
  {
   "cell_type": "code",
   "execution_count": null,
   "metadata": {},
   "outputs": [],
   "source": [
    "def moving_average(series, window_size=5):\n",
    "    # Convert array of integers to pandas series\n",
    "\n",
    "    # Get the window of series\n",
    "    # of observations of specified window size\n",
    "    windows = series.rolling(window_size)\n",
    "\n",
    "    # Create a series of moving\n",
    "    # averages of each window\n",
    "    moving_averages = windows.mean()\n",
    "\n",
    "    # Convert pandas series back to list\n",
    "    moving_averages_list = moving_averages.tolist()\n",
    "    final_list = moving_averages_list\n",
    "    return final_list\n",
    "\n",
    "\n",
    "tmp_df[\"ECG NORM\"] = (tmp_df[\" ECG\"] - np.min(tmp_df[\" ECG\"])) / (\n",
    "    np.max(tmp_df[\" ECG\"]) - np.min(tmp_df[\" ECG\"])\n",
    ")\n",
    "tmp_df[\"ECG MV\"] = moving_average(tmp_df[\"ECG NORM\"], 3)"
   ]
  },
  {
   "cell_type": "code",
   "execution_count": null,
   "metadata": {},
   "outputs": [],
   "source": [
    "def moving_average(series, window_size=5):\n",
    "    # Convert array of integers to pandas series\n",
    "\n",
    "    # Get the window of series\n",
    "    # of observations of specified window size\n",
    "    windows = series.rolling(window_size)\n",
    "\n",
    "    # Create a series of moving\n",
    "    # averages of each window\n",
    "    moving_averages = windows.mean()\n",
    "\n",
    "    # Convert pandas series back to list\n",
    "    moving_averages_list = moving_averages.tolist()\n",
    "    final_list = moving_averages_list\n",
    "    return final_list\n",
    "\n",
    "\n",
    "tmp_df[\"ECG NORM\"] = (tmp_df[\" ECG\"] - np.min(tmp_df[\" ECG\"])) / (\n",
    "    np.max(tmp_df[\" ECG\"]) - np.min(tmp_df[\" ECG\"])\n",
    ")\n",
    "tmp_df[\"ECG MV\"] = moving_average(tmp_df[\"ECG NORM\"], 3)"
   ]
  },
  {
   "cell_type": "code",
   "execution_count": null,
   "metadata": {},
   "outputs": [],
   "source": [
    "plt.figure(figsize=(20, 10))\n",
    "# plt.plot(tmp_df[\"time\"], tmp_df[\" ECG\"])\n",
    "plt.plot(tmp_df[\"time\"], tmp_df[\"ECG NORM\"])\n",
    "plt.plot(tmp_df[\"time\"], tmp_df[\"ECG MV\"])\n",
    "plt.xlim(0, 6)"
   ]
  },
  {
   "cell_type": "code",
   "execution_count": null,
   "metadata": {},
   "outputs": [],
   "source": []
  }
 ],
 "metadata": {
  "kernelspec": {
   "display_name": "venv_1",
   "language": "python",
   "name": "python3"
  },
  "language_info": {
   "codemirror_mode": {
    "name": "ipython",
    "version": 3
   },
   "file_extension": ".py",
   "mimetype": "text/x-python",
   "name": "python",
   "nbconvert_exporter": "python",
   "pygments_lexer": "ipython3",
   "version": "3.9.11"
  }
 },
 "nbformat": 4,
 "nbformat_minor": 2
}
