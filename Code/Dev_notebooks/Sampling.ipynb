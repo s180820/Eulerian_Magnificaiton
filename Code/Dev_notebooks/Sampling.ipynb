{
 "cells": [
  {
   "cell_type": "code",
   "execution_count": null,
   "metadata": {},
   "outputs": [],
   "source": [
    "import pandas as pd\n",
    "import json\n",
    "import pandas as pd\n",
    "import cv2\n",
    "import numpy as np\n",
    "from enum import Enum, auto\n",
    "import sys\n",
    "import torch\n",
    "import matplotlib.pyplot as plt\n",
    "\n",
    "sys.path.append(\"../Skin_segmentation\")\n",
    "sys.path.append(\"../../Models\")\n",
    "\n",
    "from Skindetector import *\n",
    "from rPPGNet import rPPGNet\n",
    "\n",
    "with open(\"../../Data/json_structure\") as json_file:\n",
    "    data = json.load(json_file)\n",
    "\n",
    "\n",
    "root_dir = \"/work3/s174159/data/\"\n",
    "video_file = root_dir + \"00/02/c920-1.avi\"\n",
    "bb_file = root_dir + \"bbox/00/02/c920-1.face\"\n",
    "ecg_path = root_dir + \"00/02/viatom-raw.csv\"\n",
    "index_path = root_dir + \"00/02/c920.csv\"\n",
    "\n",
    "bb_data = pd.read_csv(\n",
    "    bb_file, sep=\" \", header=None, names=[\"frame\", \"x\", \"y\", \"w\", \"h\"]\n",
    ").drop(\"frame\", axis=1)\n",
    "lead_rate = 500"
   ]
  },
  {
   "cell_type": "code",
   "execution_count": null,
   "metadata": {},
   "outputs": [],
   "source": [
    "cap = cv2.VideoCapture(video_file)"
   ]
  },
  {
   "cell_type": "code",
   "execution_count": null,
   "metadata": {},
   "outputs": [],
   "source": [
    "length = int(cap.get(cv2.CAP_PROP_FRAME_COUNT))\n",
    "fps = cap.get(cv2.CAP_PROP_FPS)\n",
    "durationInSeconds = length / fps\n",
    "print(f\"length in frames: {length}, FPS:{fps}, duration(S): {durationInSeconds}\")"
   ]
  },
  {
   "cell_type": "code",
   "execution_count": null,
   "metadata": {},
   "outputs": [],
   "source": [
    "df = pd.read_csv(ecg_path)\n",
    "df.head(5)"
   ]
  },
  {
   "cell_type": "code",
   "execution_count": null,
   "metadata": {},
   "outputs": [],
   "source": [
    "lead_names = [\"Lead I\", \"Lead II\", \"Lead III\", \"Lead aVR\", \"Lead aVL\"]"
   ]
  },
  {
   "cell_type": "code",
   "execution_count": null,
   "metadata": {},
   "outputs": [],
   "source": [
    "df[\"Lead\"] = lead_names * (len(df) // 5)\n",
    "df[\"time\"] = (df[\"milliseconds\"] - df[\"milliseconds\"].min()) / 1000  # Convert time.\n",
    "tmp_df = df[df[\"Lead\"] == \"Lead II\"]\n",
    "tmp_df[\" ECG\"] = tmp_df[\" ECG\"] * 1e-8"
   ]
  },
  {
   "cell_type": "code",
   "execution_count": null,
   "metadata": {},
   "outputs": [],
   "source": [
    "index_df = pd.read_csv(index_path, header=None, names=[\"timestamp\", \"idx_signal\"])"
   ]
  },
  {
   "cell_type": "code",
   "execution_count": null,
   "metadata": {},
   "outputs": [],
   "source": [
    "len(tmp_df)\n",
    "index_df"
   ]
  },
  {
   "cell_type": "code",
   "execution_count": 1,
   "metadata": {},
   "outputs": [
    {
     "ename": "NameError",
     "evalue": "name 'tmp_df' is not defined",
     "output_type": "error",
     "traceback": [
      "\u001b[0;31m---------------------------------------------------------------------------\u001b[0m",
      "\u001b[0;31mNameError\u001b[0m                                 Traceback (most recent call last)",
      "\u001b[1;32m/zhome/01/d/127159/Desktop/Eulerian_Magnificaiton/Code/Dev_notebooks/Sampling.ipynb Cell 9\u001b[0m line \u001b[0;36m1\n\u001b[0;32m----> <a href='vscode-notebook-cell://ssh-remote%2Blogin.gbar.dtu.dk/zhome/01/d/127159/Desktop/Eulerian_Magnificaiton/Code/Dev_notebooks/Sampling.ipynb#X11sdnNjb2RlLXJlbW90ZQ%3D%3D?line=0'>1</a>\u001b[0m df \u001b[39m=\u001b[39m tmp_df\u001b[39m.\u001b[39mloc[index_df\u001b[39m.\u001b[39miloc[\u001b[39m0\u001b[39m]\u001b[39m.\u001b[39midx_signal :]\n\u001b[1;32m      <a href='vscode-notebook-cell://ssh-remote%2Blogin.gbar.dtu.dk/zhome/01/d/127159/Desktop/Eulerian_Magnificaiton/Code/Dev_notebooks/Sampling.ipynb#X11sdnNjb2RlLXJlbW90ZQ%3D%3D?line=1'>2</a>\u001b[0m df\n",
      "\u001b[0;31mNameError\u001b[0m: name 'tmp_df' is not defined"
     ]
    }
   ],
   "source": [
    "df = tmp_df.loc[index_df.iloc[0].idx_signal :]\n",
    "df"
   ]
  },
  {
   "cell_type": "code",
   "execution_count": null,
   "metadata": {},
   "outputs": [],
   "source": [
    "import scipy\n",
    "\n",
    "test_df = scipy.signal.resample(df[\" ECG\"], 1800)"
   ]
  },
  {
   "cell_type": "code",
   "execution_count": null,
   "metadata": {},
   "outputs": [],
   "source": [
    "timedif = abs(df.head(1)[\"time\"].values[0] - df.tail(1)[\"time\"].values[0])"
   ]
  },
  {
   "cell_type": "code",
   "execution_count": null,
   "metadata": {},
   "outputs": [],
   "source": [
    "len(df) / timedif"
   ]
  },
  {
   "cell_type": "code",
   "execution_count": null,
   "metadata": {},
   "outputs": [],
   "source": [
    "plt.figure(figsize=(20, 10))\n",
    "plt.plot(df[\"time\"], df[\" ECG\"])\n",
    "plt.show()"
   ]
  },
  {
   "cell_type": "code",
   "execution_count": null,
   "metadata": {},
   "outputs": [],
   "source": [
    "def moving_average(series, window_size=5):\n",
    "    # Convert array of integers to pandas series\n",
    "\n",
    "    # Get the window of series\n",
    "    # of observations of specified window size\n",
    "    windows = series.rolling(window_size)\n",
    "\n",
    "    # Create a series of moving\n",
    "    # averages of each window\n",
    "    moving_averages = windows.mean()\n",
    "\n",
    "    # Convert pandas series back to list\n",
    "    moving_averages_list = moving_averages.tolist()\n",
    "    final_list = moving_averages_list\n",
    "    return final_list\n",
    "\n",
    "\n",
    "df[\"ECG NORM\"] = (df[\" ECG\"] - np.min(df[\" ECG\"])) / (\n",
    "    np.max(df[\" ECG\"]) - np.min(df[\" ECG\"])\n",
    ")\n",
    "df[\"ECG MV\"] = moving_average(df[\"ECG NORM\"], 3)"
   ]
  },
  {
   "cell_type": "code",
   "execution_count": null,
   "metadata": {},
   "outputs": [],
   "source": [
    "def moving_average(series, window_size=5):\n",
    "    # Convert array of integers to pandas series\n",
    "\n",
    "    # Get the window of series\n",
    "    # of observations of specified window size\n",
    "    windows = series.rolling(window_size)\n",
    "\n",
    "    # Create a series of moving\n",
    "    # averages of each window\n",
    "    moving_averages = windows.mean()\n",
    "\n",
    "    # Convert pandas series back to list\n",
    "    moving_averages_list = moving_averages.tolist()\n",
    "    final_list = moving_averages_list\n",
    "    return final_list\n",
    "\n",
    "\n",
    "tmp_df[\"ECG NORM\"] = (tmp_df[\" ECG\"] - np.min(tmp_df[\" ECG\"])) / (\n",
    "    np.max(tmp_df[\" ECG\"]) - np.min(tmp_df[\" ECG\"])\n",
    ")\n",
    "tmp_df[\"ECG MV\"] = moving_average(tmp_df[\"ECG NORM\"], 3)"
   ]
  },
  {
   "cell_type": "code",
   "execution_count": null,
   "metadata": {},
   "outputs": [],
   "source": [
    "plt.figure(figsize=(20, 10))\n",
    "# plt.plot(tmp_df[\"time\"], tmp_df[\" ECG\"])\n",
    "plt.plot(df[\"time\"], df[\"ECG NORM\"], color=\"r\")\n",
    "plt.plot(df[\"time\"], df[\"ECG MV\"], color=\"b\")\n",
    "plt.legend([\"ECG NORM\", \"ECG MV\"])\n",
    "plt.title(\"Moving vs normalized ECG\")\n",
    "plt.show()"
   ]
  },
  {
   "cell_type": "markdown",
   "metadata": {},
   "source": [
    "## Full Peak Detection"
   ]
  },
  {
   "cell_type": "code",
   "execution_count": null,
   "metadata": {},
   "outputs": [],
   "source": [
    "plt.plot(test_df)\n",
    "plt.xlim(0, 64)"
   ]
  },
  {
   "cell_type": "code",
   "execution_count": null,
   "metadata": {},
   "outputs": [],
   "source": [
    "test_df"
   ]
  },
  {
   "cell_type": "code",
   "execution_count": null,
   "metadata": {},
   "outputs": [],
   "source": [
    "import heartpy as hp\n",
    "\n",
    "hrdata = df[\"ECG NORM\"]\n",
    "len(hrdata)"
   ]
  },
  {
   "cell_type": "code",
   "execution_count": null,
   "metadata": {},
   "outputs": [],
   "source": [
    "print(len(hrdata) / durationInSeconds)"
   ]
  },
  {
   "cell_type": "code",
   "execution_count": null,
   "metadata": {},
   "outputs": [],
   "source": [
    "# Load example data\n",
    "working_data, measures = hp.process(hrdata, sample_rate=15)\n",
    "hp.plotter(working_data=working_data, measures=measures)"
   ]
  },
  {
   "cell_type": "code",
   "execution_count": null,
   "metadata": {},
   "outputs": [],
   "source": [
    "tmp_df[\" ECG HR\"].mean()"
   ]
  },
  {
   "cell_type": "code",
   "execution_count": null,
   "metadata": {},
   "outputs": [],
   "source": [
    "plt.figure(figsize=(10, 5))\n",
    "plt.plot(tmp_df[\"time\"], tmp_df[\" ECG\"])\n",
    "plt.scatter(rpeaks, tmp_df[\" ECG\"].iloc[rpeaks], marker=\"x\", color=\"red\", label=\"X\")\n",
    "plt.xlim(0, 6)\n",
    "plt.show()"
   ]
  },
  {
   "cell_type": "code",
   "execution_count": null,
   "metadata": {},
   "outputs": [],
   "source": []
  }
 ],
 "metadata": {
  "kernelspec": {
   "display_name": "Python 3 (ipykernel)",
   "language": "python",
   "name": "python3"
  },
  "language_info": {
   "codemirror_mode": {
    "name": "ipython",
    "version": 3
   },
   "file_extension": ".py",
   "mimetype": "text/x-python",
   "name": "python",
   "nbconvert_exporter": "python",
   "pygments_lexer": "ipython3",
   "version": "3.9.11"
  }
 },
 "nbformat": 4,
 "nbformat_minor": 2
}
